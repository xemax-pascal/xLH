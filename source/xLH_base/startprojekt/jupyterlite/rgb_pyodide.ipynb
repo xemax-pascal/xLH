{
  "metadata": {
    "kernelspec": {
      "name": "python",
      "display_name": "Python (Pyodide)",
      "language": "python"
    },
    "language_info": {
      "codemirror_mode": {
        "name": "python",
        "version": 3
      },
      "file_extension": ".py",
      "mimetype": "text/x-python",
      "name": "python",
      "nbconvert_exporter": "python",
      "pygments_lexer": "ipython3",
      "version": "3.8"
    }
  },
  "nbformat_minor": 5,
  "nbformat": 4,
  "cells": [
    {
      "id": "e54dfc52-4842-48d0-a84b-7b885ef062eb",
      "cell_type": "markdown",
      "source": "# RGB Matrix",
      "metadata": {}
    },
    {
      "id": "a1ad078a-cb58-46ae-8a1c-cd3066a56b95",
      "cell_type": "markdown",
      "source": "## Funktionsdefinitionen zur Ansteuerung der RGB Matrix",
      "metadata": {}
    },
    {
      "id": "14d30610-7261-4e61-9b2f-4a8f74f17bca",
      "cell_type": "code",
      "source": "import requests\n\nurl = 'http://192.168.31.31/rgb'\n\ndef rgb_cmd_values(url, values):\n    payload = {\n        'cmd': 'pixel',\n        'values': values\n    }\n    headers = {\n        'Content-Type': 'application/json',\n        'User-Agent': 'xLH'\n    }\n    response = requests.request('POST', url, json=payload, headers=headers)\n    return response\n\ndef rgb_cmd_wipe(url, value = None):\n    if value is None:\n        value = {'red': 0, 'green': 0, 'blue': 0}\n    payload = {\n        'cmd': 'wipe',\n        'value': value\n    }\n    headers = {\n        'Content-Type': 'application/json',\n        'User-Agent': 'xLH'\n    }\n    response = requests.request('POST', url, json=payload, headers=headers)\n    return response",
      "metadata": {
        "trusted": true
      },
      "outputs": [],
      "execution_count": 13
    },
    {
      "id": "c51804dd-8149-4695-b82a-411620801a93",
      "cell_type": "markdown",
      "source": "## Konkrete Aufgabenstellung",
      "metadata": {}
    },
    {
      "id": "b6f67d57-23cf-456b-8217-a3a514919c5a",
      "cell_type": "code",
      "source": "%%time\nvalues = [[{'red': 0, 'green': 0, 'blue': 0} for i in range(8)] for j in range(8)] \nvalues[0] = [{'red': i, 'green': 0, 'blue': 0} for i in range(8)] \nvalues[1] = [{'red': 0, 'green': i, 'blue': 0} for i in range(8)] \nvalues[2] = [{'red': 0, 'green': 0, 'blue': i} for i in range(8)] \n# values[7][7] = {'red': 1, 'green': 0, 'blue': 0}  \n\n#rgb_cmd_values(url, values)\nrgb_cmd_values(url, values).json()['response']",
      "metadata": {
        "trusted": true
      },
      "outputs": [
        {
          "name": "stdout",
          "text": "CPU times: user 0 ns, sys: 0 ns, total: 0 ns\nWall time: 29 ms\n",
          "output_type": "stream"
        },
        {
          "execution_count": 14,
          "output_type": "execute_result",
          "data": {
            "text/plain": "'ok'"
          },
          "metadata": {}
        }
      ],
      "execution_count": 14
    },
    {
      "id": "cb4f4d76-2752-4d30-aca6-2ddcd9a370e5",
      "cell_type": "code",
      "source": "%%time\nrgb_cmd_wipe(url).json()['response']",
      "metadata": {
        "trusted": true
      },
      "outputs": [
        {
          "name": "stdout",
          "text": "CPU times: user 0 ns, sys: 0 ns, total: 0 ns\nWall time: 15 ms\n",
          "output_type": "stream"
        },
        {
          "execution_count": 15,
          "output_type": "execute_result",
          "data": {
            "text/plain": "'ok'"
          },
          "metadata": {}
        }
      ],
      "execution_count": 15
    },
    {
      "id": "2e28c097-db20-4231-a3fd-1925bdaf3d8f",
      "cell_type": "code",
      "source": "%%time\nrgb_cmd_wipe(url, {'red': 0, 'green': 0, 'blue': 1}).json()['response']",
      "metadata": {
        "trusted": true
      },
      "outputs": [
        {
          "name": "stdout",
          "text": "CPU times: user 0 ns, sys: 0 ns, total: 0 ns\nWall time: 13 ms\n",
          "output_type": "stream"
        },
        {
          "execution_count": 16,
          "output_type": "execute_result",
          "data": {
            "text/plain": "'ok'"
          },
          "metadata": {}
        }
      ],
      "execution_count": 16
    },
    {
      "id": "29526d65-d548-4b05-9a70-160a638eb070",
      "cell_type": "code",
      "source": "# GET Request\nurl = \"http://192.168.31.31/xlh-rgb/0/1/0/\"\nresponse = requests.request(\"GET\", url)\nprint(response.text)",
      "metadata": {
        "trusted": true
      },
      "outputs": [
        {
          "name": "stdout",
          "text": "{\"rgb\":[0,1,0]}\n",
          "output_type": "stream"
        }
      ],
      "execution_count": 17
    },
    {
      "id": "7741d714-d8a8-4a3e-ba0b-f5b2e3067eb4",
      "cell_type": "code",
      "source": "# END",
      "metadata": {
        "trusted": true
      },
      "outputs": [],
      "execution_count": 12
    },
    {
      "id": "547d72ed-06f1-4308-91d5-50ced665d72f",
      "cell_type": "code",
      "source": "",
      "metadata": {
        "trusted": true
      },
      "outputs": [],
      "execution_count": null
    }
  ]
}