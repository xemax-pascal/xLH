{
  "metadata": {
    "kernelspec": {
      "name": "python",
      "display_name": "Python (Pyodide)",
      "language": "python"
    },
    "language_info": {
      "codemirror_mode": {
        "name": "python",
        "version": 3
      },
      "file_extension": ".py",
      "mimetype": "text/x-python",
      "name": "python",
      "nbconvert_exporter": "python",
      "pygments_lexer": "ipython3",
      "version": "3.8"
    }
  },
  "nbformat_minor": 5,
  "nbformat": 4,
  "cells": [
    {
      "id": "e54dfc52-4842-48d0-a84b-7b885ef062eb",
      "cell_type": "markdown",
      "source": "# RGB Matrix",
      "metadata": {}
    },
    {
      "id": "a1ad078a-cb58-46ae-8a1c-cd3066a56b95",
      "cell_type": "markdown",
      "source": "## Funktionsdefinitionen zur Ansteuerung der RGB Matrix",
      "metadata": {}
    },
    {
      "id": "14d30610-7261-4e61-9b2f-4a8f74f17bca",
      "cell_type": "code",
      "source": "import requests\nimport time\n\nurl = 'http://192.168.31.31/rgb'\n\ndef rgb_cmd_values(url, values):\n    payload = {\n        'cmd': 'pixel',\n        'values': values\n    }\n    headers = {\n        'Content-Type': 'application/json',\n        'User-Agent': 'xLH'\n    }\n    response = requests.request('POST', url, json=payload, headers=headers)\n    return response\n\ndef rgb_cmd_wipe(url, value = None):\n    if value is None:\n        value = {'red': 0, 'green': 0, 'blue': 0}\n    payload = {\n        'cmd': 'wipe',\n        'value': value\n    }\n    headers = {\n        'Content-Type': 'application/json',\n        'User-Agent': 'xLH'\n    }\n    response = requests.request('POST', url, json=payload, headers=headers)\n    return response",
      "metadata": {
        "trusted": true
      },
      "outputs": [],
      "execution_count": 3
    },
    {
      "id": "45af227a-cf01-4db3-ba43-029652142a3a",
      "cell_type": "markdown",
      "source": "---",
      "metadata": {}
    },
    {
      "id": "c51804dd-8149-4695-b82a-411620801a93",
      "cell_type": "markdown",
      "source": "## Konkrete Aufgabenstellung 1",
      "metadata": {}
    },
    {
      "id": "b6f67d57-23cf-456b-8217-a3a514919c5a",
      "cell_type": "code",
      "source": "%%time\nvalues = [[{'red': 0, 'green': 0, 'blue': 0} for i in range(8)] for j in range(8)] \nvalues[0] = [{'red': i, 'green': 0, 'blue': 0} for i in range(8)] \nvalues[1] = [{'red': 0, 'green': i, 'blue': 0} for i in range(8)] \nvalues[2] = [{'red': 0, 'green': 0, 'blue': i} for i in range(8)] \n# values[7][7] = {'red': 1, 'green': 0, 'blue': 0}  \n\n# rgb_cmd_values(url, values).json()['response']\n# rgb_cmd_values(url, values).json()\nrgb_cmd_values(url, values).json()['response']",
      "metadata": {
        "trusted": true
      },
      "outputs": [
        {
          "name": "stdout",
          "text": "CPU times: user 0 ns, sys: 0 ns, total: 0 ns\nWall time: 35 ms\n",
          "output_type": "stream"
        },
        {
          "execution_count": 4,
          "output_type": "execute_result",
          "data": {
            "text/plain": "'ok'"
          },
          "metadata": {}
        }
      ],
      "execution_count": 4
    },
    {
      "id": "cf0e62b3-b19f-4350-9f1e-91b171763619",
      "cell_type": "markdown",
      "source": "---",
      "metadata": {}
    },
    {
      "id": "e2f5b0dd-6744-4a66-8c94-23df5e2d7661",
      "cell_type": "markdown",
      "source": "## Konkrete Aufgabenstellung 2\nEs sollen die Hauptdiagonale (oben-links nach unten-rechts) sowie die Nebendiagonale (oben-rechts nach unten-links) mit derselben Farbe erleuchtet werden.\nDie Farbe soll mittels den Farbanteilen Rot, Grün und Blau vorgegeben werden können.",
      "metadata": {}
    },
    {
      "id": "d9d1d855-b26e-4d80-9900-87c64a9df4f3",
      "cell_type": "code",
      "source": "values = [[{'red': 0, 'green': 0, 'blue': 0} for i in range(8)] for j in range(8)]\nrgb_cmd_values(url, values).json()['response']",
      "metadata": {
        "trusted": true
      },
      "outputs": [
        {
          "execution_count": 5,
          "output_type": "execute_result",
          "data": {
            "text/plain": "'ok'"
          },
          "metadata": {}
        }
      ],
      "execution_count": 5
    },
    {
      "id": "daaff5ed-2b94-4dc2-953a-fc9fb526d39d",
      "cell_type": "code",
      "source": "# Farbdefinition der Diagonalen (statisch)\nred = 20\ngreen = 0\nblue = 10\n# RGB's initialisieren und auf Null setzen\nvalues = [[{'red': 0, 'green': 0, 'blue': 0} for i in range(8)] for j in range(8)]\n# Diagonale Farbe zuweisen\nfor i in range(8):\n    values[i][i] = {'red': red, 'green': green, 'blue': blue}  # Hauptdiagonale\n    values[i][7 - i] = {'red': red, 'green': green, 'blue': blue}  # Nebendiagonale\nrgb_cmd_values(url, values).json()['response']",
      "metadata": {
        "trusted": true
      },
      "outputs": [
        {
          "execution_count": 6,
          "output_type": "execute_result",
          "data": {
            "text/plain": "'ok'"
          },
          "metadata": {}
        }
      ],
      "execution_count": 6
    },
    {
      "id": "6e485c26-a52b-4444-93fc-12f340b62128",
      "cell_type": "code",
      "source": "# Farbdefinition der Diagonalen (dynamisch)\nred = 10\ngreen = 0\nblue = 0\n# RGB's initialisieren und auf Null setzen\nvalues = [[{'red': 0, 'green': 0, 'blue': 0} for i in range(8)] for j in range(8)]\n# Diagonale Farbe zuweisen\nfor i in range(8):\n    values[i][i] = {'red': red, 'green': green, 'blue': blue}  # Hauptdiagonale\n    values[i][7 - i] = {'red': red, 'green': green, 'blue': blue}  # Nebendiagonale\n    rgb_cmd_values(url, values)\n    time.sleep(0.15)",
      "metadata": {
        "trusted": true
      },
      "outputs": [],
      "execution_count": 7
    },
    {
      "id": "90b82f09-2908-4715-bad6-74d8f143a4f7",
      "cell_type": "markdown",
      "source": "---",
      "metadata": {}
    },
    {
      "id": "c4b26089-2115-4ba2-9294-92bc7583a1ed",
      "cell_type": "markdown",
      "source": "### Konkrete Aufgabenstellung 3\nEs soll eine Funktion erstellt werden, welche es erlaubt eine spezifische RGB-LED (Zeile, Spalte) mittels einer Farbvorgabe anzusteuern. ",
      "metadata": {}
    },
    {
      "id": "aa6288ab-b2b0-4ab5-af7c-bfadc50005ee",
      "cell_type": "code",
      "source": "def write_rgb_led(location=[0, 0], color={'red': 0, 'green': 0, 'blue': 0}):\n    # RGB's initialisieren und auf Null setzen\n    values = [[{'red': 0, 'green': 0, 'blue': 0} for i in range(8)] for j in range(8)]\n    values[location[0] - 1][location[1] - 1] = color\n    response = rgb_cmd_values(url, values).json()['response']\n    return response",
      "metadata": {
        "trusted": true
      },
      "outputs": [],
      "execution_count": 8
    },
    {
      "id": "18db2039-85f9-4986-b3ac-6b6a71c809a3",
      "cell_type": "code",
      "source": "# Farbdefinition\nred = 0\ngreen = 10\nblue = 0\n# Location\nzeile = 7\nspalte = 3\n# Funktionsaufruf\nwrite_rgb_led(location=[zeile, spalte], color={'red': red, 'green': green, 'blue': blue})",
      "metadata": {
        "trusted": true
      },
      "outputs": [
        {
          "execution_count": 9,
          "output_type": "execute_result",
          "data": {
            "text/plain": "'ok'"
          },
          "metadata": {}
        }
      ],
      "execution_count": 9
    },
    {
      "id": "39e16da8-055d-4888-a5bc-c2974d05ebaf",
      "cell_type": "markdown",
      "source": "---",
      "metadata": {}
    },
    {
      "id": "f4a40d54-2ca3-4db7-bda4-33b41de6a596",
      "cell_type": "markdown",
      "source": "### Konkrete Aufgabenstellung 4\nEs soll ein Lauflicht erstellt werden. Bei ungeraden Zeilen soll das Lauflicht von links nach rechts (v.l.n.r.) und bei geraden Zeilen von rechts nach links (v.r.n.l.).",
      "metadata": {}
    },
    {
      "id": "b7d98839-195b-45ce-84e3-8972ea691d4a",
      "cell_type": "code",
      "source": "# Farbdefinition\nred = 1\ngreen = 0\nblue = 0\n# RGB's initialisieren und auf Null setzen\nvalues = [[{'red': 0, 'green': 0, 'blue': 0} for i in range(8)] for j in range(8)]\nfor i in range(8):\n    for j in range(8):\n        if i % 2 == 0:\n            values[i][j] = {'red': red, 'green': green, 'blue': blue}  # v.l.n.r.\n        else:\n            values[i][7 - j] = {'red': red, 'green': green, 'blue': blue}  # v.r.n.l.\n        rgb_cmd_values(url, values)\n        time.sleep(0.15)",
      "metadata": {
        "trusted": true
      },
      "outputs": [],
      "execution_count": 10
    },
    {
      "id": "fff40645-90ad-4f3f-b4c1-aa74a605c8a1",
      "cell_type": "markdown",
      "source": "---",
      "metadata": {}
    },
    {
      "id": "cb4f4d76-2752-4d30-aca6-2ddcd9a370e5",
      "cell_type": "code",
      "source": "%%time\nrgb_cmd_wipe(url).json()['response']",
      "metadata": {
        "trusted": true
      },
      "outputs": [
        {
          "name": "stdout",
          "text": "CPU times: user 0 ns, sys: 0 ns, total: 0 ns\nWall time: 14 ms\n",
          "output_type": "stream"
        },
        {
          "execution_count": 11,
          "output_type": "execute_result",
          "data": {
            "text/plain": "'ok'"
          },
          "metadata": {}
        }
      ],
      "execution_count": 11
    },
    {
      "id": "2e28c097-db20-4231-a3fd-1925bdaf3d8f",
      "cell_type": "code",
      "source": "%%time\nrgb_cmd_wipe(url, {'red': 0, 'green': 0, 'blue': 1}).json()['response']",
      "metadata": {
        "trusted": true
      },
      "outputs": [
        {
          "name": "stdout",
          "text": "CPU times: user 0 ns, sys: 0 ns, total: 0 ns\nWall time: 13 ms\n",
          "output_type": "stream"
        },
        {
          "execution_count": 12,
          "output_type": "execute_result",
          "data": {
            "text/plain": "'ok'"
          },
          "metadata": {}
        }
      ],
      "execution_count": 12
    },
    {
      "id": "052c7960-df6c-4a40-90fc-c7db17258dbe",
      "cell_type": "code",
      "source": "%%time\nrgb_cmd_wipe(url).json()['response']",
      "metadata": {
        "trusted": true
      },
      "outputs": [
        {
          "name": "stdout",
          "text": "CPU times: user 0 ns, sys: 0 ns, total: 0 ns\nWall time: 17 ms\n",
          "output_type": "stream"
        },
        {
          "execution_count": 13,
          "output_type": "execute_result",
          "data": {
            "text/plain": "'ok'"
          },
          "metadata": {}
        }
      ],
      "execution_count": 13
    },
    {
      "id": "29526d65-d548-4b05-9a70-160a638eb070",
      "cell_type": "code",
      "source": "# GET Request\nurl = \"http://192.168.31.31/xlh-rgb/0/1/0/\"\nresponse = requests.request(\"GET\", url)\nprint(response.text)",
      "metadata": {
        "trusted": true
      },
      "outputs": [
        {
          "name": "stdout",
          "text": "{\"rgb\":[0,1,0]}\n",
          "output_type": "stream"
        }
      ],
      "execution_count": 15
    },
    {
      "id": "7741d714-d8a8-4a3e-ba0b-f5b2e3067eb4",
      "cell_type": "code",
      "source": "# END",
      "metadata": {
        "trusted": true
      },
      "outputs": [],
      "execution_count": 15
    }
  ]
}