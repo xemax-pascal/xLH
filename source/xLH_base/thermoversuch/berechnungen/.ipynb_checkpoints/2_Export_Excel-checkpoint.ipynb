{
 "cells": [
  {
   "cell_type": "markdown",
   "id": "5be97dee-4c17-4539-afcf-2eb4d5bd12a0",
   "metadata": {},
   "source": [
    "# Thermoversuch: Datenexport nach Excel"
   ]
  },
  {
   "cell_type": "code",
   "execution_count": 1,
   "id": "ca4342e5-d5e5-46b0-805d-26950a66d1f8",
   "metadata": {},
   "outputs": [
    {
     "name": "stdout",
     "output_type": "stream",
     "text": [
      "D:/Python/XLH/source/xLH_base/thermoversuch/berechnungen\n"
     ]
    }
   ],
   "source": [
    "import os\n",
    "import pathlib\n",
    "import sys\n",
    "import warnings\n",
    "warnings.filterwarnings('ignore')\n",
    "__cwd__ = str(pathlib.Path(os.getcwd())).replace('\\\\', '/')\n",
    "sys.path.append(__cwd__)\n",
    "print(__cwd__)\n",
    "\n",
    "%load_ext autoreload\n",
    "%autoreload 2"
   ]
  },
  {
   "cell_type": "code",
   "execution_count": 2,
   "id": "03bb2d5d-ef82-4d57-ae83-8d7da471bddd",
   "metadata": {},
   "outputs": [],
   "source": [
    "import xlwings as xw\n",
    "import pandas as pd\n",
    "import matplotlib.pyplot as plt  # https://matplotlib.org/stable/gallery/\n",
    "plt.rcParams['font.size'] = 6\n",
    "dpi = 600\n",
    "%matplotlib inline"
   ]
  },
  {
   "cell_type": "code",
   "execution_count": 3,
   "id": "ebaee7c5-f260-4788-ac9a-e0105f8b5bf6",
   "metadata": {},
   "outputs": [
    {
     "name": "stdout",
     "output_type": "stream",
     "text": [
      "(3601, 10)\n"
     ]
    },
    {
     "data": {
      "text/html": [
       "<div>\n",
       "<style scoped>\n",
       "    .dataframe tbody tr th:only-of-type {\n",
       "        vertical-align: middle;\n",
       "    }\n",
       "\n",
       "    .dataframe tbody tr th {\n",
       "        vertical-align: top;\n",
       "    }\n",
       "\n",
       "    .dataframe thead th {\n",
       "        text-align: right;\n",
       "    }\n",
       "</style>\n",
       "<table border=\"1\" class=\"dataframe\">\n",
       "  <thead>\n",
       "    <tr style=\"text-align: right;\">\n",
       "      <th></th>\n",
       "      <th>t [s]</th>\n",
       "      <th>relais</th>\n",
       "      <th>U [V]</th>\n",
       "      <th>I [A]</th>\n",
       "      <th>Pel [W]</th>\n",
       "      <th>Eel [J]</th>\n",
       "      <th>T1 [°C]</th>\n",
       "      <th>T2 [°C]</th>\n",
       "      <th>T3 [°C]</th>\n",
       "      <th>Tmw [°C]</th>\n",
       "    </tr>\n",
       "  </thead>\n",
       "  <tbody>\n",
       "    <tr>\n",
       "      <th>0</th>\n",
       "      <td>0.000000</td>\n",
       "      <td>1.0</td>\n",
       "      <td>237.500000</td>\n",
       "      <td>0.0</td>\n",
       "      <td>0.1</td>\n",
       "      <td>0.000000</td>\n",
       "      <td>20.5</td>\n",
       "      <td>20.6</td>\n",
       "      <td>20.9</td>\n",
       "      <td>20.666666</td>\n",
       "    </tr>\n",
       "    <tr>\n",
       "      <th>1</th>\n",
       "      <td>1.000001</td>\n",
       "      <td>1.0</td>\n",
       "      <td>237.500000</td>\n",
       "      <td>0.0</td>\n",
       "      <td>0.0</td>\n",
       "      <td>0.021999</td>\n",
       "      <td>20.5</td>\n",
       "      <td>20.6</td>\n",
       "      <td>20.9</td>\n",
       "      <td>20.666666</td>\n",
       "    </tr>\n",
       "    <tr>\n",
       "      <th>2</th>\n",
       "      <td>2.020002</td>\n",
       "      <td>1.0</td>\n",
       "      <td>237.500000</td>\n",
       "      <td>0.0</td>\n",
       "      <td>0.0</td>\n",
       "      <td>0.021999</td>\n",
       "      <td>20.5</td>\n",
       "      <td>20.6</td>\n",
       "      <td>20.9</td>\n",
       "      <td>20.666666</td>\n",
       "    </tr>\n",
       "    <tr>\n",
       "      <th>3</th>\n",
       "      <td>3.040018</td>\n",
       "      <td>1.0</td>\n",
       "      <td>237.399994</td>\n",
       "      <td>0.0</td>\n",
       "      <td>0.0</td>\n",
       "      <td>0.021999</td>\n",
       "      <td>20.5</td>\n",
       "      <td>20.6</td>\n",
       "      <td>20.9</td>\n",
       "      <td>20.666666</td>\n",
       "    </tr>\n",
       "    <tr>\n",
       "      <th>4</th>\n",
       "      <td>4.060000</td>\n",
       "      <td>1.0</td>\n",
       "      <td>237.399994</td>\n",
       "      <td>0.0</td>\n",
       "      <td>0.0</td>\n",
       "      <td>0.021999</td>\n",
       "      <td>20.5</td>\n",
       "      <td>20.6</td>\n",
       "      <td>20.9</td>\n",
       "      <td>20.666666</td>\n",
       "    </tr>\n",
       "  </tbody>\n",
       "</table>\n",
       "</div>"
      ],
      "text/plain": [
       "      t [s]  relais       U [V]  I [A]  Pel [W]   Eel [J]  T1 [°C]  T2 [°C]  \\\n",
       "0  0.000000     1.0  237.500000    0.0      0.1  0.000000     20.5     20.6   \n",
       "1  1.000001     1.0  237.500000    0.0      0.0  0.021999     20.5     20.6   \n",
       "2  2.020002     1.0  237.500000    0.0      0.0  0.021999     20.5     20.6   \n",
       "3  3.040018     1.0  237.399994    0.0      0.0  0.021999     20.5     20.6   \n",
       "4  4.060000     1.0  237.399994    0.0      0.0  0.021999     20.5     20.6   \n",
       "\n",
       "   T3 [°C]   Tmw [°C]  \n",
       "0     20.9  20.666666  \n",
       "1     20.9  20.666666  \n",
       "2     20.9  20.666666  \n",
       "3     20.9  20.666666  \n",
       "4     20.9  20.666666  "
      ]
     },
     "execution_count": 3,
     "metadata": {},
     "output_type": "execute_result"
    }
   ],
   "source": [
    "# laden der Rohdaten aus dem Notebook 1\n",
    "df = pd.read_pickle('daten/messung_1.pkl')\n",
    "print(df.shape)\n",
    "df.head(5)"
   ]
  },
  {
   "cell_type": "code",
   "execution_count": 4,
   "id": "7bf1514f-8e3a-4e74-a935-c7410a9179dd",
   "metadata": {},
   "outputs": [],
   "source": [
    "# Export der Rohdaten in Excel => (https://docs.xlwings.org/en/stable/connect_to_workbook.html)\n",
    "# wb = xw.Book('daten/excel.xlsx')\n",
    "wb = xw.Book('daten/excel.xlsx')\n",
    "sheet = wb.sheets('Tabelle1')\n",
    "sheet.range('A1:M4000').clear_contents()\n",
    "sheet.range('A1').value = 'Thermoversuch: Export der Rohdaten'\n",
    "sheet['A3'].value = df"
   ]
  },
  {
   "cell_type": "code",
   "execution_count": 93,
   "id": "70e5f251-328a-4983-913c-cb59cc64bd86",
   "metadata": {},
   "outputs": [],
   "source": [
    "# END"
   ]
  }
 ],
 "metadata": {
  "kernelspec": {
   "display_name": "Python 3 (ipykernel)",
   "language": "python",
   "name": "python3"
  },
  "language_info": {
   "codemirror_mode": {
    "name": "ipython",
    "version": 3
   },
   "file_extension": ".py",
   "mimetype": "text/x-python",
   "name": "python",
   "nbconvert_exporter": "python",
   "pygments_lexer": "ipython3",
   "version": "3.10.11"
  }
 },
 "nbformat": 4,
 "nbformat_minor": 5
}
