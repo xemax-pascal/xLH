{
 "cells": [
  {
   "cell_type": "markdown",
   "id": "5be97dee-4c17-4539-afcf-2eb4d5bd12a0",
   "metadata": {},
   "source": [
    "# Thermoversuch: Datenerfassung"
   ]
  },
  {
   "cell_type": "code",
   "execution_count": 1,
   "id": "ca4342e5-d5e5-46b0-805d-26950a66d1f8",
   "metadata": {},
   "outputs": [
    {
     "name": "stdout",
     "output_type": "stream",
     "text": [
      "D:/xemax ag/prj_23_05_XLC - General/Thermoversuch/Datenweitergabe/Quellcode/Python\n"
     ]
    }
   ],
   "source": [
    "import os\n",
    "import pathlib\n",
    "import sys\n",
    "__cwd__ = str(pathlib.Path(os.getcwd())).replace('\\\\', '/')\n",
    "sys.path.append(__cwd__)\n",
    "print(__cwd__)\n",
    "\n",
    "%load_ext autoreload\n",
    "%autoreload 2"
   ]
  },
  {
   "cell_type": "code",
   "execution_count": 2,
   "id": "03bb2d5d-ef82-4d57-ae83-8d7da471bddd",
   "metadata": {},
   "outputs": [],
   "source": [
    "from opcua import Client, ua\n",
    "import pandas as pd\n",
    "import webbrowser"
   ]
  },
  {
   "cell_type": "code",
   "execution_count": 3,
   "id": "d19f4f8e-6a8f-4ab1-8f62-3a5c67fd1f5a",
   "metadata": {},
   "outputs": [],
   "source": [
    "# IP Adresse der SPS\n",
    "ip_plc = '192.168.1.102'"
   ]
  },
  {
   "cell_type": "code",
   "execution_count": 4,
   "id": "490b0632-c8e5-4698-a756-86a003cba1d3",
   "metadata": {},
   "outputs": [
    {
     "data": {
      "text/plain": [
       "True"
      ]
     },
     "execution_count": 4,
     "metadata": {},
     "output_type": "execute_result"
    }
   ],
   "source": [
    "# öffne Webseite mit der Visualisierung zum Thermoversuch\n",
    "webbrowser.open(f'http://{ip_plc}:8080/webvisu.htm')"
   ]
  },
  {
   "cell_type": "code",
   "execution_count": 5,
   "id": "9051a594-c28d-4bd5-bc65-ae0a5cf06faf",
   "metadata": {},
   "outputs": [
    {
     "name": "stdout",
     "output_type": "stream",
     "text": [
      "CPU times: total: 109 ms\n",
      "Wall time: 669 ms\n"
     ]
    }
   ],
   "source": [
    "%%time\n",
    "# auslesen der Daten aus der SPS via OPC-UA\n",
    "port_plc = 4840\n",
    "opcua_client = Client(f'opc.tcp://{ip_plc}:{port_plc}')\n",
    "opcua_client.connect()\n",
    "root = opcua_client.get_root_node()\n",
    "plc_name = \"4:CODESYS Control for Raspberry Pi SL\"\n",
    "node_root_base = ['0:Objects', '2:DeviceSet', plc_name,\n",
    "                  '3:Resources', '4:app', '3:Programs', '4:MAIN', '4:data_logger']\n",
    "arTime_node = root.get_child(node_root_base + ['4:arTime'])\n",
    "arChannel_00_node = root.get_child(node_root_base + ['4:arChannel_00'])\n",
    "arChannel_01_node = root.get_child(node_root_base + ['4:arChannel_01'])\n",
    "arChannel_02_node = root.get_child(node_root_base + ['4:arChannel_02'])\n",
    "arChannel_03_node = root.get_child(node_root_base + ['4:arChannel_03'])\n",
    "arChannel_04_node = root.get_child(node_root_base + ['4:arChannel_04'])\n",
    "arChannel_05_node = root.get_child(node_root_base + ['4:arChannel_05'])\n",
    "arChannel_06_node = root.get_child(node_root_base + ['4:arChannel_06'])\n",
    "arChannel_07_node = root.get_child(node_root_base + ['4:arChannel_07'])\n",
    "arChannel_08_node = root.get_child(node_root_base + ['4:arChannel_08'])\n",
    "arChannel_09_node = root.get_child(node_root_base + ['4:arChannel_09'])\n",
    "arChannel_10_node = root.get_child(node_root_base + ['4:arChannel_10'])\n",
    "arChannel_11_node = root.get_child(node_root_base + ['4:arChannel_11'])\n",
    "arChannel_12_node = root.get_child(node_root_base + ['4:arChannel_12'])\n",
    "arChannel_13_node = root.get_child(node_root_base + ['4:arChannel_13'])\n",
    "arChannel_14_node = root.get_child(node_root_base + ['4:arChannel_14'])\n",
    "arChannel_15_node = root.get_child(node_root_base + ['4:arChannel_15'])\n",
    "\n",
    "arTime = arTime_node.get_value()\n",
    "arChannel_00 = arChannel_00_node.get_value()\n",
    "arChannel_01 = arChannel_01_node.get_value()\n",
    "arChannel_02 = arChannel_02_node.get_value()\n",
    "arChannel_03 = arChannel_03_node.get_value()\n",
    "arChannel_04 = arChannel_04_node.get_value()\n",
    "arChannel_05 = arChannel_05_node.get_value()\n",
    "arChannel_06 = arChannel_06_node.get_value()\n",
    "arChannel_07 = arChannel_07_node.get_value()\n",
    "arChannel_08 = arChannel_08_node.get_value()\n",
    "arChannel_09 = arChannel_09_node.get_value()\n",
    "arChannel_10 = arChannel_10_node.get_value()\n",
    "arChannel_11 = arChannel_11_node.get_value()\n",
    "arChannel_12 = arChannel_12_node.get_value()\n",
    "arChannel_13 = arChannel_13_node.get_value()\n",
    "arChannel_14 = arChannel_14_node.get_value()\n",
    "arChannel_15 = arChannel_15_node.get_value()\n",
    "\n",
    "opcua_client.disconnect()"
   ]
  },
  {
   "cell_type": "code",
   "execution_count": 6,
   "id": "e48c3a27-b152-4d83-8ae5-e642d8bf5281",
   "metadata": {},
   "outputs": [
    {
     "name": "stdout",
     "output_type": "stream",
     "text": [
      "(3601, 10)\n"
     ]
    },
    {
     "data": {
      "text/html": [
       "<div>\n",
       "<style scoped>\n",
       "    .dataframe tbody tr th:only-of-type {\n",
       "        vertical-align: middle;\n",
       "    }\n",
       "\n",
       "    .dataframe tbody tr th {\n",
       "        vertical-align: top;\n",
       "    }\n",
       "\n",
       "    .dataframe thead th {\n",
       "        text-align: right;\n",
       "    }\n",
       "</style>\n",
       "<table border=\"1\" class=\"dataframe\">\n",
       "  <thead>\n",
       "    <tr style=\"text-align: right;\">\n",
       "      <th></th>\n",
       "      <th>t [s]</th>\n",
       "      <th>relais</th>\n",
       "      <th>U [V]</th>\n",
       "      <th>I [A]</th>\n",
       "      <th>Pel [W]</th>\n",
       "      <th>Eel [J]</th>\n",
       "      <th>T1 [°C]</th>\n",
       "      <th>T2 [°C]</th>\n",
       "      <th>T3 [°C]</th>\n",
       "      <th>Tmw [°C]</th>\n",
       "    </tr>\n",
       "  </thead>\n",
       "  <tbody>\n",
       "    <tr>\n",
       "      <th>0</th>\n",
       "      <td>0.000000</td>\n",
       "      <td>0.0</td>\n",
       "      <td>239.399994</td>\n",
       "      <td>0.0</td>\n",
       "      <td>0.0</td>\n",
       "      <td>0.0</td>\n",
       "      <td>30.299999</td>\n",
       "      <td>30.6</td>\n",
       "      <td>30.5</td>\n",
       "      <td>30.466667</td>\n",
       "    </tr>\n",
       "    <tr>\n",
       "      <th>1</th>\n",
       "      <td>1.019999</td>\n",
       "      <td>0.0</td>\n",
       "      <td>239.399994</td>\n",
       "      <td>0.0</td>\n",
       "      <td>0.0</td>\n",
       "      <td>0.0</td>\n",
       "      <td>30.500000</td>\n",
       "      <td>30.5</td>\n",
       "      <td>30.5</td>\n",
       "      <td>30.500000</td>\n",
       "    </tr>\n",
       "    <tr>\n",
       "      <th>2</th>\n",
       "      <td>2.020000</td>\n",
       "      <td>0.0</td>\n",
       "      <td>239.399994</td>\n",
       "      <td>0.0</td>\n",
       "      <td>0.0</td>\n",
       "      <td>0.0</td>\n",
       "      <td>30.500000</td>\n",
       "      <td>30.5</td>\n",
       "      <td>30.5</td>\n",
       "      <td>30.500000</td>\n",
       "    </tr>\n",
       "    <tr>\n",
       "      <th>3</th>\n",
       "      <td>3.020002</td>\n",
       "      <td>0.0</td>\n",
       "      <td>239.399994</td>\n",
       "      <td>0.0</td>\n",
       "      <td>0.0</td>\n",
       "      <td>0.0</td>\n",
       "      <td>30.500000</td>\n",
       "      <td>30.5</td>\n",
       "      <td>30.5</td>\n",
       "      <td>30.500000</td>\n",
       "    </tr>\n",
       "    <tr>\n",
       "      <th>4</th>\n",
       "      <td>4.040015</td>\n",
       "      <td>0.0</td>\n",
       "      <td>239.399994</td>\n",
       "      <td>0.0</td>\n",
       "      <td>0.0</td>\n",
       "      <td>0.0</td>\n",
       "      <td>30.500000</td>\n",
       "      <td>30.5</td>\n",
       "      <td>30.5</td>\n",
       "      <td>30.500000</td>\n",
       "    </tr>\n",
       "  </tbody>\n",
       "</table>\n",
       "</div>"
      ],
      "text/plain": [
       "      t [s]  relais       U [V]  I [A]  Pel [W]  Eel [J]    T1 [°C]  T2 [°C]  \\\n",
       "0  0.000000     0.0  239.399994    0.0      0.0      0.0  30.299999     30.6   \n",
       "1  1.019999     0.0  239.399994    0.0      0.0      0.0  30.500000     30.5   \n",
       "2  2.020000     0.0  239.399994    0.0      0.0      0.0  30.500000     30.5   \n",
       "3  3.020002     0.0  239.399994    0.0      0.0      0.0  30.500000     30.5   \n",
       "4  4.040015     0.0  239.399994    0.0      0.0      0.0  30.500000     30.5   \n",
       "\n",
       "   T3 [°C]   Tmw [°C]  \n",
       "0     30.5  30.466667  \n",
       "1     30.5  30.500000  \n",
       "2     30.5  30.500000  \n",
       "3     30.5  30.500000  \n",
       "4     30.5  30.500000  "
      ]
     },
     "execution_count": 6,
     "metadata": {},
     "output_type": "execute_result"
    }
   ],
   "source": [
    "# Konvertierung der Rohdaten in ein Pandas Data-Frame (vergleichbar zu Excel)\n",
    "df = pd.DataFrame({\n",
    "    't [s]': arTime,\n",
    "    'relais': arChannel_00,\n",
    "    'U [V]': arChannel_01,\n",
    "    'I [A]': arChannel_02,\n",
    "    'Pel [W]': arChannel_03,\n",
    "    'Eel [J]': arChannel_05,\n",
    "    'T1 [°C]': arChannel_07,\n",
    "    'T2 [°C]': arChannel_08,\n",
    "    'T3 [°C]': arChannel_09,\n",
    "    'Tmw [°C]': arChannel_10,    \n",
    "})\n",
    "print(df.shape)\n",
    "df.head(5)"
   ]
  },
  {
   "cell_type": "code",
   "execution_count": 7,
   "id": "ebaee7c5-f260-4788-ac9a-e0105f8b5bf6",
   "metadata": {},
   "outputs": [],
   "source": [
    "# Speicherung der Rohdaten für die weitere Bearbeitung\n",
    "df.to_pickle('daten/messung_1.pkl')"
   ]
  },
  {
   "cell_type": "code",
   "execution_count": null,
   "id": "70e5f251-328a-4983-913c-cb59cc64bd86",
   "metadata": {},
   "outputs": [],
   "source": [
    "# END"
   ]
  }
 ],
 "metadata": {
  "kernelspec": {
   "display_name": "Python 3 (ipykernel)",
   "language": "python",
   "name": "python3"
  },
  "language_info": {
   "codemirror_mode": {
    "name": "ipython",
    "version": 3
   },
   "file_extension": ".py",
   "mimetype": "text/x-python",
   "name": "python",
   "nbconvert_exporter": "python",
   "pygments_lexer": "ipython3",
   "version": "3.10.11"
  }
 },
 "nbformat": 4,
 "nbformat_minor": 5
}
